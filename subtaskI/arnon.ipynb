{
 "cells": [
  {
   "cell_type": "code",
   "execution_count": 1,
   "outputs": [],
   "source": [
    "import pandas as pd\n",
    "import numpy as np\n",
    "from sklearn.preprocessing import StandardScaler\n",
    "from sklearn.decomposition import PCA\n",
    "from sklearn.cluster import DBSCAN\n",
    "import matplotlib.pyplot as plt\n",
    "import seaborn as sns\n",
    "# Load your dataset\n",
    "df = pd.read_csv(\"../train_test_splits/train.feats.csv\", low_memory=False)\n",
    "\n",
    "# Convert all date columns\n",
    "date_cols = [col for col in df.columns if \"date\" in col.lower()]\n",
    "for col in date_cols:\n",
    "    df[col] = pd.to_datetime(df[col], errors='coerce', dayfirst=True)\n"
   ],
   "metadata": {
    "collapsed": false,
    "ExecuteTime": {
     "end_time": "2025-06-12T15:36:04.258492Z",
     "start_time": "2025-06-12T15:35:52.274259Z"
    }
   },
   "id": "4d2e4ca0a653af6c"
  },
  {
   "cell_type": "code",
   "execution_count": 2,
   "outputs": [
    {
     "ename": "KeyError",
     "evalue": "np.int64(10)",
     "output_type": "error",
     "traceback": [
      "\u001B[0;31m---------------------------------------------------------------------------\u001B[0m",
      "\u001B[0;31mKeyError\u001B[0m                                  Traceback (most recent call last)",
      "Cell \u001B[0;32mIn[2], line 1\u001B[0m\n\u001B[0;32m----> 1\u001B[0m \u001B[43mpredictWithModel\u001B[49m\u001B[43m(\u001B[49m\u001B[43mmodel\u001B[49m\u001B[43m,\u001B[49m\u001B[43m \u001B[49m\u001B[43mX\u001B[49m\u001B[43m,\u001B[49m\u001B[43m \u001B[49m\u001B[43moutput_path\u001B[49m\u001B[38;5;241;43m=\u001B[39;49m\u001B[43moutput_path\u001B[49m\u001B[43m)\u001B[49m\n",
      "Cell \u001B[0;32mIn[1], line 32\u001B[0m, in \u001B[0;36mpredictWithModel\u001B[0;34m(model, X_test, output_path)\u001B[0m\n\u001B[1;32m     30\u001B[0m \u001B[38;5;28;01mdef\u001B[39;00m\u001B[38;5;250m \u001B[39m\u001B[38;5;21mpredictWithModel\u001B[39m(model, X_test, output_path\u001B[38;5;241m=\u001B[39m\u001B[38;5;124m\"\u001B[39m\u001B[38;5;124mpredictions.csv\u001B[39m\u001B[38;5;124m\"\u001B[39m):\n\u001B[1;32m     31\u001B[0m     Y_pred \u001B[38;5;241m=\u001B[39m model\u001B[38;5;241m.\u001B[39mpredict(X_test)\n\u001B[0;32m---> 32\u001B[0m     \u001B[43mmodel\u001B[49m\u001B[38;5;241;43m.\u001B[39;49m\u001B[43msave_predictions\u001B[49m\u001B[43m(\u001B[49m\u001B[43mY_pred\u001B[49m\u001B[43m,\u001B[49m\u001B[43m \u001B[49m\u001B[43mout_path\u001B[49m\u001B[38;5;241;43m=\u001B[39;49m\u001B[43moutput_path\u001B[49m\u001B[43m)\u001B[49m\n\u001B[1;32m     33\u001B[0m     \u001B[38;5;28mprint\u001B[39m(\u001B[38;5;124mf\u001B[39m\u001B[38;5;124m\"\u001B[39m\u001B[38;5;124mPredictions saved to \u001B[39m\u001B[38;5;132;01m{\u001B[39;00moutput_path\u001B[38;5;132;01m}\u001B[39;00m\u001B[38;5;124m\"\u001B[39m)\n",
      "File \u001B[0;32m~/Documents/GitHub/card pagmar/iml-hack-oncology/subtaskI/part1.py:58\u001B[0m, in \u001B[0;36mBaselineModel.save_predictions\u001B[0;34m(self, Y_pred, out_path)\u001B[0m\n\u001B[1;32m     57\u001B[0m \u001B[38;5;28;01mdef\u001B[39;00m\u001B[38;5;250m \u001B[39m\u001B[38;5;21msave_predictions\u001B[39m(\u001B[38;5;28mself\u001B[39m, Y_pred, out_path\u001B[38;5;241m=\u001B[39m\u001B[38;5;124m\"\u001B[39m\u001B[38;5;124mbaseline_submission.csv\u001B[39m\u001B[38;5;124m\"\u001B[39m):\n\u001B[0;32m---> 58\u001B[0m     decoded \u001B[38;5;241m=\u001B[39m [\u001B[38;5;28mself\u001B[39m\u001B[38;5;241m.\u001B[39mlabel_encoder\u001B[38;5;241m.\u001B[39mdecode(row) \u001B[38;5;28;01mfor\u001B[39;00m row \u001B[38;5;129;01min\u001B[39;00m Y_pred]\n\u001B[1;32m     59\u001B[0m     pd\u001B[38;5;241m.\u001B[39mDataFrame({\u001B[38;5;124m\"\u001B[39m\u001B[38;5;124mMetastasis\u001B[39m\u001B[38;5;124m\"\u001B[39m: [\u001B[38;5;28mstr\u001B[39m(row) \u001B[38;5;28;01mfor\u001B[39;00m row \u001B[38;5;129;01min\u001B[39;00m decoded]})\u001B[38;5;241m.\u001B[39mto_csv(out_path, index\u001B[38;5;241m=\u001B[39m\u001B[38;5;28;01mFalse\u001B[39;00m)\n",
      "File \u001B[0;32m~/Documents/GitHub/card pagmar/iml-hack-oncology/subtaskI/part1.py:58\u001B[0m, in \u001B[0;36m<listcomp>\u001B[0;34m(.0)\u001B[0m\n\u001B[1;32m     57\u001B[0m \u001B[38;5;28;01mdef\u001B[39;00m\u001B[38;5;250m \u001B[39m\u001B[38;5;21msave_predictions\u001B[39m(\u001B[38;5;28mself\u001B[39m, Y_pred, out_path\u001B[38;5;241m=\u001B[39m\u001B[38;5;124m\"\u001B[39m\u001B[38;5;124mbaseline_submission.csv\u001B[39m\u001B[38;5;124m\"\u001B[39m):\n\u001B[0;32m---> 58\u001B[0m     decoded \u001B[38;5;241m=\u001B[39m [\u001B[38;5;28;43mself\u001B[39;49m\u001B[38;5;241;43m.\u001B[39;49m\u001B[43mlabel_encoder\u001B[49m\u001B[38;5;241;43m.\u001B[39;49m\u001B[43mdecode\u001B[49m\u001B[43m(\u001B[49m\u001B[43mrow\u001B[49m\u001B[43m)\u001B[49m \u001B[38;5;28;01mfor\u001B[39;00m row \u001B[38;5;129;01min\u001B[39;00m Y_pred]\n\u001B[1;32m     59\u001B[0m     pd\u001B[38;5;241m.\u001B[39mDataFrame({\u001B[38;5;124m\"\u001B[39m\u001B[38;5;124mMetastasis\u001B[39m\u001B[38;5;124m\"\u001B[39m: [\u001B[38;5;28mstr\u001B[39m(row) \u001B[38;5;28;01mfor\u001B[39;00m row \u001B[38;5;129;01min\u001B[39;00m decoded]})\u001B[38;5;241m.\u001B[39mto_csv(out_path, index\u001B[38;5;241m=\u001B[39m\u001B[38;5;28;01mFalse\u001B[39;00m)\n",
      "File \u001B[0;32m~/Documents/GitHub/card pagmar/iml-hack-oncology/subtaskI/evaluate_part_0.py:82\u001B[0m, in \u001B[0;36mEncode_Multi_Hot.decode\u001B[0;34m(self, multi_hot_vector)\u001B[0m\n\u001B[1;32m     78\u001B[0m \u001B[38;5;250m\u001B[39m\u001B[38;5;124;03m\"\"\"\u001B[39;00m\n\u001B[1;32m     79\u001B[0m \u001B[38;5;124;03mDecode a multi-hot vector back to a list of labels\u001B[39;00m\n\u001B[1;32m     80\u001B[0m \u001B[38;5;124;03m\"\"\"\u001B[39;00m\n\u001B[1;32m     81\u001B[0m indices \u001B[38;5;241m=\u001B[39m np\u001B[38;5;241m.\u001B[39mwhere(multi_hot_vector \u001B[38;5;241m==\u001B[39m \u001B[38;5;241m1\u001B[39m)[\u001B[38;5;241m0\u001B[39m]\n\u001B[0;32m---> 82\u001B[0m \u001B[38;5;28;01mreturn\u001B[39;00m [\u001B[38;5;28mself\u001B[39m\u001B[38;5;241m.\u001B[39mind_to_label[i] \u001B[38;5;28;01mfor\u001B[39;00m i \u001B[38;5;129;01min\u001B[39;00m indices]\n",
      "File \u001B[0;32m~/Documents/GitHub/card pagmar/iml-hack-oncology/subtaskI/evaluate_part_0.py:82\u001B[0m, in \u001B[0;36m<listcomp>\u001B[0;34m(.0)\u001B[0m\n\u001B[1;32m     78\u001B[0m \u001B[38;5;250m\u001B[39m\u001B[38;5;124;03m\"\"\"\u001B[39;00m\n\u001B[1;32m     79\u001B[0m \u001B[38;5;124;03mDecode a multi-hot vector back to a list of labels\u001B[39;00m\n\u001B[1;32m     80\u001B[0m \u001B[38;5;124;03m\"\"\"\u001B[39;00m\n\u001B[1;32m     81\u001B[0m indices \u001B[38;5;241m=\u001B[39m np\u001B[38;5;241m.\u001B[39mwhere(multi_hot_vector \u001B[38;5;241m==\u001B[39m \u001B[38;5;241m1\u001B[39m)[\u001B[38;5;241m0\u001B[39m]\n\u001B[0;32m---> 82\u001B[0m \u001B[38;5;28;01mreturn\u001B[39;00m [\u001B[38;5;28;43mself\u001B[39;49m\u001B[38;5;241;43m.\u001B[39;49m\u001B[43mind_to_label\u001B[49m\u001B[43m[\u001B[49m\u001B[43mi\u001B[49m\u001B[43m]\u001B[49m \u001B[38;5;28;01mfor\u001B[39;00m i \u001B[38;5;129;01min\u001B[39;00m indices]\n",
      "\u001B[0;31mKeyError\u001B[0m: np.int64(10)"
     ]
    }
   ],
   "source": [
    "# Compute last treatment date\n",
    "df['last_treatment_date'] = df[date_cols].max(axis=1)\n",
    "\n",
    "# Compute 'days since last treatment'\n",
    "for col in date_cols:\n",
    "    df[f\"{col}_since_last\"] = (df['last_treatment_date'] - df[col]).dt.days"
   ],
   "metadata": {
    "collapsed": false,
    "ExecuteTime": {
     "end_time": "2025-06-12T15:36:30.705377Z",
     "start_time": "2025-06-12T15:36:29.823485Z"
    }
   },
   "id": "5e5c8d0e8234c880"
  },
  {
   "cell_type": "code",
   "execution_count": 5,
   "outputs": [
    {
     "name": "stderr",
     "output_type": "stream",
     "text": [
      "/Users/omry/Desktop/School Stuff/IML/iml-hack-oncology/lib/python3.9/site-packages/xgboost/core.py:158: UserWarning: [18:37:59] WARNING: /Users/runner/work/xgboost/xgboost/src/learner.cc:740: \n",
      "Parameters: { \"use_label_encoder\" } are not used.\n",
      "\n",
      "  warnings.warn(smsg, UserWarning)\n"
     ]
    },
    {
     "ename": "AttributeError",
     "evalue": "'XGBClassifier' object has no attribute 'save_predictions'",
     "output_type": "error",
     "traceback": [
      "\u001B[0;31m---------------------------------------------------------------------------\u001B[0m",
      "\u001B[0;31mAttributeError\u001B[0m                            Traceback (most recent call last)",
      "Cell \u001B[0;32mIn[5], line 3\u001B[0m\n\u001B[1;32m      1\u001B[0m \u001B[38;5;66;03m# Uncomment below to train XGBoost model\u001B[39;00m\n\u001B[1;32m      2\u001B[0m xgb_model \u001B[38;5;241m=\u001B[39m trainXGBModel(X, y)\n\u001B[0;32m----> 3\u001B[0m \u001B[43mpredictWithModel\u001B[49m\u001B[43m(\u001B[49m\u001B[43mxgb_model\u001B[49m\u001B[43m,\u001B[49m\u001B[43m \u001B[49m\u001B[43mX\u001B[49m\u001B[43m,\u001B[49m\u001B[43m \u001B[49m\u001B[43moutput_path\u001B[49m\u001B[38;5;241;43m=\u001B[39;49m\u001B[38;5;124;43m\"\u001B[39;49m\u001B[38;5;124;43mxgb_predictions.csv\u001B[39;49m\u001B[38;5;124;43m\"\u001B[39;49m\u001B[43m)\u001B[49m\n",
      "Cell \u001B[0;32mIn[1], line 32\u001B[0m, in \u001B[0;36mpredictWithModel\u001B[0;34m(model, X_test, output_path)\u001B[0m\n\u001B[1;32m     30\u001B[0m \u001B[38;5;28;01mdef\u001B[39;00m\u001B[38;5;250m \u001B[39m\u001B[38;5;21mpredictWithModel\u001B[39m(model, X_test, output_path\u001B[38;5;241m=\u001B[39m\u001B[38;5;124m\"\u001B[39m\u001B[38;5;124mpredictions.csv\u001B[39m\u001B[38;5;124m\"\u001B[39m):\n\u001B[1;32m     31\u001B[0m     Y_pred \u001B[38;5;241m=\u001B[39m model\u001B[38;5;241m.\u001B[39mpredict(X_test)\n\u001B[0;32m---> 32\u001B[0m     \u001B[43mmodel\u001B[49m\u001B[38;5;241;43m.\u001B[39;49m\u001B[43msave_predictions\u001B[49m(Y_pred, out_path\u001B[38;5;241m=\u001B[39moutput_path)\n\u001B[1;32m     33\u001B[0m     \u001B[38;5;28mprint\u001B[39m(\u001B[38;5;124mf\u001B[39m\u001B[38;5;124m\"\u001B[39m\u001B[38;5;124mPredictions saved to \u001B[39m\u001B[38;5;132;01m{\u001B[39;00moutput_path\u001B[38;5;132;01m}\u001B[39;00m\u001B[38;5;124m\"\u001B[39m)\n",
      "\u001B[0;31mAttributeError\u001B[0m: 'XGBClassifier' object has no attribute 'save_predictions'"
     ]
    }
   ],
   "source": [
    "# Drop original dates\n",
    "df = df.drop(columns=date_cols + ['last_treatment_date'])\n",
    "\n",
    "# Select timeline features\n",
    "timeline_cols = [col for col in df.columns if col.endswith('_since_last')]\n",
    "timeline_df = df[timeline_cols].fillna(df[timeline_cols].median())\n",
    "\n",
    "# Normalize\n",
    "scaler = StandardScaler()\n",
    "timeline_scaled = scaler.fit_transform(timeline_df)"
   ],
   "metadata": {
    "collapsed": false,
    "ExecuteTime": {
     "end_time": "2025-06-12T15:38:10.418494Z",
     "start_time": "2025-06-12T15:37:59.331767Z"
    }
   },
   "id": "eb17bc4e8ac4e1db"
  },
  {
   "cell_type": "code",
   "execution_count": 50,
   "outputs": [
    {
     "data": {
      "text/plain": "       אבחנה-Diagnosis date_since_last  אבחנה-Surgery date1_since_last  \\\n0                                  650                          1126.0   \n1                                  650                          1126.0   \n2                                  650                          1126.0   \n3                                  650                          1126.0   \n4                                  650                          1126.0   \n...                                ...                             ...   \n49346                                0                            36.0   \n49347                                0                            63.0   \n49348                                0                            63.0   \n49349                                0                            63.0   \n49350                                0                            63.0   \n\n       אבחנה-Surgery date2_since_last  אבחנה-Surgery date3_since_last  \\\n0                                34.0                            76.0   \n1                                34.0                            76.0   \n2                                34.0                            76.0   \n3                                34.0                            76.0   \n4                                34.0                            76.0   \n...                               ...                             ...   \n49346                            34.0                            76.0   \n49347                            34.0                            76.0   \n49348                            34.0                            76.0   \n49349                            34.0                            76.0   \n49350                            34.0                            76.0   \n\n       surgery before or after-Activity date_since_last  \n0                                                   0.0  \n1                                                   0.0  \n2                                                   0.0  \n3                                                   0.0  \n4                                                   0.0  \n...                                                 ...  \n49346                                              36.0  \n49347                                              62.0  \n49348                                              62.0  \n49349                                              62.0  \n49350                                              62.0  \n\n[49351 rows x 5 columns]",
      "text/html": "<div>\n<style scoped>\n    .dataframe tbody tr th:only-of-type {\n        vertical-align: middle;\n    }\n\n    .dataframe tbody tr th {\n        vertical-align: top;\n    }\n\n    .dataframe thead th {\n        text-align: right;\n    }\n</style>\n<table border=\"1\" class=\"dataframe\">\n  <thead>\n    <tr style=\"text-align: right;\">\n      <th></th>\n      <th>אבחנה-Diagnosis date_since_last</th>\n      <th>אבחנה-Surgery date1_since_last</th>\n      <th>אבחנה-Surgery date2_since_last</th>\n      <th>אבחנה-Surgery date3_since_last</th>\n      <th>surgery before or after-Activity date_since_last</th>\n    </tr>\n  </thead>\n  <tbody>\n    <tr>\n      <th>0</th>\n      <td>650</td>\n      <td>1126.0</td>\n      <td>34.0</td>\n      <td>76.0</td>\n      <td>0.0</td>\n    </tr>\n    <tr>\n      <th>1</th>\n      <td>650</td>\n      <td>1126.0</td>\n      <td>34.0</td>\n      <td>76.0</td>\n      <td>0.0</td>\n    </tr>\n    <tr>\n      <th>2</th>\n      <td>650</td>\n      <td>1126.0</td>\n      <td>34.0</td>\n      <td>76.0</td>\n      <td>0.0</td>\n    </tr>\n    <tr>\n      <th>3</th>\n      <td>650</td>\n      <td>1126.0</td>\n      <td>34.0</td>\n      <td>76.0</td>\n      <td>0.0</td>\n    </tr>\n    <tr>\n      <th>4</th>\n      <td>650</td>\n      <td>1126.0</td>\n      <td>34.0</td>\n      <td>76.0</td>\n      <td>0.0</td>\n    </tr>\n    <tr>\n      <th>...</th>\n      <td>...</td>\n      <td>...</td>\n      <td>...</td>\n      <td>...</td>\n      <td>...</td>\n    </tr>\n    <tr>\n      <th>49346</th>\n      <td>0</td>\n      <td>36.0</td>\n      <td>34.0</td>\n      <td>76.0</td>\n      <td>36.0</td>\n    </tr>\n    <tr>\n      <th>49347</th>\n      <td>0</td>\n      <td>63.0</td>\n      <td>34.0</td>\n      <td>76.0</td>\n      <td>62.0</td>\n    </tr>\n    <tr>\n      <th>49348</th>\n      <td>0</td>\n      <td>63.0</td>\n      <td>34.0</td>\n      <td>76.0</td>\n      <td>62.0</td>\n    </tr>\n    <tr>\n      <th>49349</th>\n      <td>0</td>\n      <td>63.0</td>\n      <td>34.0</td>\n      <td>76.0</td>\n      <td>62.0</td>\n    </tr>\n    <tr>\n      <th>49350</th>\n      <td>0</td>\n      <td>63.0</td>\n      <td>34.0</td>\n      <td>76.0</td>\n      <td>62.0</td>\n    </tr>\n  </tbody>\n</table>\n<p>49351 rows × 5 columns</p>\n</div>"
     },
     "execution_count": 50,
     "metadata": {},
     "output_type": "execute_result"
    }
   ],
   "source": [
    "timeline_df"
   ],
   "metadata": {
    "collapsed": false,
    "ExecuteTime": {
     "end_time": "2025-06-12T13:03:28.806139Z",
     "start_time": "2025-06-12T13:03:28.801546Z"
    }
   },
   "id": "58ce9ff3da08db26"
  },
  {
   "cell_type": "code",
   "execution_count": null,
   "outputs": [],
   "source": [],
   "metadata": {
    "collapsed": false
   },
   "id": "51ae6a0fdd9c7e4a"
  }
 ],
 "metadata": {
  "kernelspec": {
   "display_name": "Python 3",
   "language": "python",
   "name": "python3"
  },
  "language_info": {
   "codemirror_mode": {
    "name": "ipython",
    "version": 2
   },
   "file_extension": ".py",
   "mimetype": "text/x-python",
   "name": "python",
   "nbconvert_exporter": "python",
   "pygments_lexer": "ipython2",
   "version": "2.7.6"
  }
 },
 "nbformat": 4,
 "nbformat_minor": 5
}
