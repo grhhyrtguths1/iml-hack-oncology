{
 "cells": [
  {
   "cell_type": "code",
   "execution_count": 1,
   "id": "initial_id",
   "metadata": {
    "collapsed": true,
    "ExecuteTime": {
     "end_time": "2025-06-12T07:48:32.171090Z",
     "start_time": "2025-06-12T07:48:31.018480Z"
    }
   },
   "outputs": [],
   "source": [
    "from part1 import BaselineModel  # Import your class from wherever it's defined\n",
    "import pandas as pd\n",
    "import ast"
   ]
  },
  {
   "cell_type": "code",
   "execution_count": 17,
   "outputs": [],
   "source": [
    "# Load processed training data\n",
    "X, Y = BaselineModel().load_data('Processed_First_500_Rows.csv', 'Y_train_processed500.csv')"
   ],
   "metadata": {
    "collapsed": false,
    "ExecuteTime": {
     "end_time": "2025-06-12T08:48:08.198003Z",
     "start_time": "2025-06-12T08:48:08.187584Z"
    }
   },
   "id": "a6b26d9bfe473e79"
  },
  {
   "cell_type": "code",
   "execution_count": 18,
   "outputs": [
    {
     "data": {
      "text/plain": "            0         1         2         3         4             5    6    7  \\\n0   -0.633105 -0.070602 -0.977536  2.943369  5.505978 -4.477256e-01  0.0  0.0   \n1   -0.633105 -0.070602 -0.977536  2.943369  5.505978 -4.477256e-01  0.0  0.0   \n2   -0.633105 -0.070602 -0.977536  2.943369  5.505978 -4.477256e-01  0.0  0.0   \n3   -0.633105 -0.070602 -0.977536  2.943369  5.505978 -4.477256e-01  0.0  0.0   \n4   -0.633105 -0.070602 -0.977536  2.943369  5.505978 -4.477256e-01  0.0  0.0   \n..        ...       ...       ...       ...       ...           ...  ...  ...   \n495 -0.633105 -1.024866 -0.252934 -0.066211 -0.229416 -4.477256e-01  0.0  0.0   \n496 -0.633105 -1.024866 -0.252934 -0.066211 -0.229416 -4.477256e-01  0.0  0.0   \n497 -0.633105 -1.024866 -0.252934 -0.066211 -0.229416 -4.477256e-01  0.0  0.0   \n498 -0.633105  2.941052 -0.252934 -0.066211 -0.229416  2.755217e-15  0.0  0.0   \n499  1.446741 -0.804408 -0.252934 -0.066211 -0.229416  2.755217e-15  0.0  0.0   \n\n            8         9  ...  170  171  172  173  174  175  176  177  178  179  \n0   -1.766140  0.131904  ...  1.0  0.0  0.0  0.0  0.0  0.0  1.0  0.0  0.0  0.0  \n1   -1.766140  0.131904  ...  1.0  0.0  0.0  0.0  0.0  0.0  1.0  0.0  0.0  0.0  \n2   -1.766140  0.131904  ...  1.0  0.0  0.0  0.0  0.0  0.0  1.0  0.0  0.0  0.0  \n3   -1.766140  0.131904  ...  1.0  0.0  0.0  0.0  0.0  0.0  1.0  0.0  0.0  0.0  \n4   -1.766140  0.131904  ...  1.0  0.0  0.0  0.0  0.0  0.0  1.0  0.0  0.0  0.0  \n..        ...       ...  ...  ...  ...  ...  ...  ...  ...  ...  ...  ...  ...  \n495  0.251374  0.131904  ...  0.0  0.0  0.0  0.0  1.0  0.0  1.0  0.0  0.0  0.0  \n496  0.251374  0.131904  ...  0.0  0.0  0.0  0.0  1.0  0.0  1.0  0.0  0.0  0.0  \n497  0.251374  0.131904  ...  0.0  0.0  0.0  0.0  1.0  0.0  1.0  0.0  0.0  0.0  \n498  0.251374  0.131904  ...  0.0  1.0  0.0  0.0  0.0  0.0  0.0  0.0  1.0  0.0  \n499  0.251374  0.131904  ...  0.0  1.0  0.0  0.0  0.0  0.0  1.0  0.0  0.0  0.0  \n\n[500 rows x 180 columns]",
      "text/html": "<div>\n<style scoped>\n    .dataframe tbody tr th:only-of-type {\n        vertical-align: middle;\n    }\n\n    .dataframe tbody tr th {\n        vertical-align: top;\n    }\n\n    .dataframe thead th {\n        text-align: right;\n    }\n</style>\n<table border=\"1\" class=\"dataframe\">\n  <thead>\n    <tr style=\"text-align: right;\">\n      <th></th>\n      <th>0</th>\n      <th>1</th>\n      <th>2</th>\n      <th>3</th>\n      <th>4</th>\n      <th>5</th>\n      <th>6</th>\n      <th>7</th>\n      <th>8</th>\n      <th>9</th>\n      <th>...</th>\n      <th>170</th>\n      <th>171</th>\n      <th>172</th>\n      <th>173</th>\n      <th>174</th>\n      <th>175</th>\n      <th>176</th>\n      <th>177</th>\n      <th>178</th>\n      <th>179</th>\n    </tr>\n  </thead>\n  <tbody>\n    <tr>\n      <th>0</th>\n      <td>-0.633105</td>\n      <td>-0.070602</td>\n      <td>-0.977536</td>\n      <td>2.943369</td>\n      <td>5.505978</td>\n      <td>-4.477256e-01</td>\n      <td>0.0</td>\n      <td>0.0</td>\n      <td>-1.766140</td>\n      <td>0.131904</td>\n      <td>...</td>\n      <td>1.0</td>\n      <td>0.0</td>\n      <td>0.0</td>\n      <td>0.0</td>\n      <td>0.0</td>\n      <td>0.0</td>\n      <td>1.0</td>\n      <td>0.0</td>\n      <td>0.0</td>\n      <td>0.0</td>\n    </tr>\n    <tr>\n      <th>1</th>\n      <td>-0.633105</td>\n      <td>-0.070602</td>\n      <td>-0.977536</td>\n      <td>2.943369</td>\n      <td>5.505978</td>\n      <td>-4.477256e-01</td>\n      <td>0.0</td>\n      <td>0.0</td>\n      <td>-1.766140</td>\n      <td>0.131904</td>\n      <td>...</td>\n      <td>1.0</td>\n      <td>0.0</td>\n      <td>0.0</td>\n      <td>0.0</td>\n      <td>0.0</td>\n      <td>0.0</td>\n      <td>1.0</td>\n      <td>0.0</td>\n      <td>0.0</td>\n      <td>0.0</td>\n    </tr>\n    <tr>\n      <th>2</th>\n      <td>-0.633105</td>\n      <td>-0.070602</td>\n      <td>-0.977536</td>\n      <td>2.943369</td>\n      <td>5.505978</td>\n      <td>-4.477256e-01</td>\n      <td>0.0</td>\n      <td>0.0</td>\n      <td>-1.766140</td>\n      <td>0.131904</td>\n      <td>...</td>\n      <td>1.0</td>\n      <td>0.0</td>\n      <td>0.0</td>\n      <td>0.0</td>\n      <td>0.0</td>\n      <td>0.0</td>\n      <td>1.0</td>\n      <td>0.0</td>\n      <td>0.0</td>\n      <td>0.0</td>\n    </tr>\n    <tr>\n      <th>3</th>\n      <td>-0.633105</td>\n      <td>-0.070602</td>\n      <td>-0.977536</td>\n      <td>2.943369</td>\n      <td>5.505978</td>\n      <td>-4.477256e-01</td>\n      <td>0.0</td>\n      <td>0.0</td>\n      <td>-1.766140</td>\n      <td>0.131904</td>\n      <td>...</td>\n      <td>1.0</td>\n      <td>0.0</td>\n      <td>0.0</td>\n      <td>0.0</td>\n      <td>0.0</td>\n      <td>0.0</td>\n      <td>1.0</td>\n      <td>0.0</td>\n      <td>0.0</td>\n      <td>0.0</td>\n    </tr>\n    <tr>\n      <th>4</th>\n      <td>-0.633105</td>\n      <td>-0.070602</td>\n      <td>-0.977536</td>\n      <td>2.943369</td>\n      <td>5.505978</td>\n      <td>-4.477256e-01</td>\n      <td>0.0</td>\n      <td>0.0</td>\n      <td>-1.766140</td>\n      <td>0.131904</td>\n      <td>...</td>\n      <td>1.0</td>\n      <td>0.0</td>\n      <td>0.0</td>\n      <td>0.0</td>\n      <td>0.0</td>\n      <td>0.0</td>\n      <td>1.0</td>\n      <td>0.0</td>\n      <td>0.0</td>\n      <td>0.0</td>\n    </tr>\n    <tr>\n      <th>...</th>\n      <td>...</td>\n      <td>...</td>\n      <td>...</td>\n      <td>...</td>\n      <td>...</td>\n      <td>...</td>\n      <td>...</td>\n      <td>...</td>\n      <td>...</td>\n      <td>...</td>\n      <td>...</td>\n      <td>...</td>\n      <td>...</td>\n      <td>...</td>\n      <td>...</td>\n      <td>...</td>\n      <td>...</td>\n      <td>...</td>\n      <td>...</td>\n      <td>...</td>\n      <td>...</td>\n    </tr>\n    <tr>\n      <th>495</th>\n      <td>-0.633105</td>\n      <td>-1.024866</td>\n      <td>-0.252934</td>\n      <td>-0.066211</td>\n      <td>-0.229416</td>\n      <td>-4.477256e-01</td>\n      <td>0.0</td>\n      <td>0.0</td>\n      <td>0.251374</td>\n      <td>0.131904</td>\n      <td>...</td>\n      <td>0.0</td>\n      <td>0.0</td>\n      <td>0.0</td>\n      <td>0.0</td>\n      <td>1.0</td>\n      <td>0.0</td>\n      <td>1.0</td>\n      <td>0.0</td>\n      <td>0.0</td>\n      <td>0.0</td>\n    </tr>\n    <tr>\n      <th>496</th>\n      <td>-0.633105</td>\n      <td>-1.024866</td>\n      <td>-0.252934</td>\n      <td>-0.066211</td>\n      <td>-0.229416</td>\n      <td>-4.477256e-01</td>\n      <td>0.0</td>\n      <td>0.0</td>\n      <td>0.251374</td>\n      <td>0.131904</td>\n      <td>...</td>\n      <td>0.0</td>\n      <td>0.0</td>\n      <td>0.0</td>\n      <td>0.0</td>\n      <td>1.0</td>\n      <td>0.0</td>\n      <td>1.0</td>\n      <td>0.0</td>\n      <td>0.0</td>\n      <td>0.0</td>\n    </tr>\n    <tr>\n      <th>497</th>\n      <td>-0.633105</td>\n      <td>-1.024866</td>\n      <td>-0.252934</td>\n      <td>-0.066211</td>\n      <td>-0.229416</td>\n      <td>-4.477256e-01</td>\n      <td>0.0</td>\n      <td>0.0</td>\n      <td>0.251374</td>\n      <td>0.131904</td>\n      <td>...</td>\n      <td>0.0</td>\n      <td>0.0</td>\n      <td>0.0</td>\n      <td>0.0</td>\n      <td>1.0</td>\n      <td>0.0</td>\n      <td>1.0</td>\n      <td>0.0</td>\n      <td>0.0</td>\n      <td>0.0</td>\n    </tr>\n    <tr>\n      <th>498</th>\n      <td>-0.633105</td>\n      <td>2.941052</td>\n      <td>-0.252934</td>\n      <td>-0.066211</td>\n      <td>-0.229416</td>\n      <td>2.755217e-15</td>\n      <td>0.0</td>\n      <td>0.0</td>\n      <td>0.251374</td>\n      <td>0.131904</td>\n      <td>...</td>\n      <td>0.0</td>\n      <td>1.0</td>\n      <td>0.0</td>\n      <td>0.0</td>\n      <td>0.0</td>\n      <td>0.0</td>\n      <td>0.0</td>\n      <td>0.0</td>\n      <td>1.0</td>\n      <td>0.0</td>\n    </tr>\n    <tr>\n      <th>499</th>\n      <td>1.446741</td>\n      <td>-0.804408</td>\n      <td>-0.252934</td>\n      <td>-0.066211</td>\n      <td>-0.229416</td>\n      <td>2.755217e-15</td>\n      <td>0.0</td>\n      <td>0.0</td>\n      <td>0.251374</td>\n      <td>0.131904</td>\n      <td>...</td>\n      <td>0.0</td>\n      <td>1.0</td>\n      <td>0.0</td>\n      <td>0.0</td>\n      <td>0.0</td>\n      <td>0.0</td>\n      <td>1.0</td>\n      <td>0.0</td>\n      <td>0.0</td>\n      <td>0.0</td>\n    </tr>\n  </tbody>\n</table>\n<p>500 rows × 180 columns</p>\n</div>"
     },
     "execution_count": 18,
     "metadata": {},
     "output_type": "execute_result"
    }
   ],
   "source": [
    "X"
   ],
   "metadata": {
    "collapsed": false,
    "ExecuteTime": {
     "end_time": "2025-06-12T08:48:10.508267Z",
     "start_time": "2025-06-12T08:48:10.501040Z"
    }
   },
   "id": "4740b21114aa8337"
  },
  {
   "cell_type": "code",
   "execution_count": 19,
   "outputs": [
    {
     "data": {
      "text/plain": "array([[0., 0., 0.],\n       [0., 0., 0.],\n       [0., 0., 0.],\n       ...,\n       [0., 0., 0.],\n       [1., 1., 0.],\n       [0., 0., 0.]])"
     },
     "execution_count": 19,
     "metadata": {},
     "output_type": "execute_result"
    }
   ],
   "source": [
    "Y"
   ],
   "metadata": {
    "collapsed": false,
    "ExecuteTime": {
     "end_time": "2025-06-12T08:48:12.455791Z",
     "start_time": "2025-06-12T08:48:12.448702Z"
    }
   },
   "id": "ca1c167b08c19fe0"
  },
  {
   "cell_type": "code",
   "execution_count": 20,
   "outputs": [],
   "source": [
    "# Split into train/dev (optional)\n",
    "from sklearn.model_selection import train_test_split\n",
    "X_train, X_dev, Y_train, Y_dev = train_test_split(X, Y, test_size=0.2, random_state=42)\n",
    "\n",
    "# Train model\n",
    "model = BaselineModel()"
   ],
   "metadata": {
    "collapsed": false,
    "ExecuteTime": {
     "end_time": "2025-06-12T08:48:23.608288Z",
     "start_time": "2025-06-12T08:48:23.603222Z"
    }
   },
   "id": "f6fe9a6745c51087"
  },
  {
   "cell_type": "code",
   "execution_count": 5,
   "outputs": [],
   "source": [],
   "metadata": {
    "collapsed": false,
    "ExecuteTime": {
     "end_time": "2025-06-12T07:51:40.385946Z",
     "start_time": "2025-06-12T07:51:40.380157Z"
    }
   },
   "id": "77ed3c90e857f3a6"
  },
  {
   "cell_type": "code",
   "execution_count": 21,
   "outputs": [],
   "source": [
    "model.train(X_train, Y_train)\n"
   ],
   "metadata": {
    "collapsed": false,
    "ExecuteTime": {
     "end_time": "2025-06-12T08:48:35.917261Z",
     "start_time": "2025-06-12T08:48:35.893467Z"
    }
   },
   "id": "13f02573285d72a1"
  },
  {
   "cell_type": "code",
   "execution_count": 26,
   "outputs": [],
   "source": [
    "Y_pred = model.predict(X_dev)\n"
   ],
   "metadata": {
    "collapsed": false,
    "ExecuteTime": {
     "end_time": "2025-06-12T09:03:47.198735Z",
     "start_time": "2025-06-12T09:03:47.195565Z"
    }
   },
   "id": "d3a56cabb9b2af1f"
  },
  {
   "cell_type": "code",
   "execution_count": 23,
   "outputs": [
    {
     "data": {
      "text/plain": "array([[0., 0., 0.],\n       [0., 0., 0.],\n       [0., 0., 0.],\n       ...,\n       [0., 0., 0.],\n       [0., 0., 0.],\n       [0., 0., 0.]])"
     },
     "execution_count": 23,
     "metadata": {},
     "output_type": "execute_result"
    }
   ],
   "source": [],
   "metadata": {
    "collapsed": false,
    "ExecuteTime": {
     "end_time": "2025-06-12T08:49:08.898516Z",
     "start_time": "2025-06-12T08:49:08.893114Z"
    }
   },
   "id": "1c93e952c76a0338"
  },
  {
   "cell_type": "code",
   "execution_count": 27,
   "outputs": [
    {
     "name": "stderr",
     "output_type": "stream",
     "text": [
      "/Users/omry/Desktop/School Stuff/IML/iml-hack-oncology/lib/python3.9/site-packages/sklearn/metrics/_classification.py:1565: UndefinedMetricWarning: F-score is ill-defined and being set to 0.0 due to no true nor predicted samples. Use `zero_division` parameter to control this behavior.\n",
      "  _warn_prf(average, modifier, f\"{metric.capitalize()} is\", len(result))\n",
      "/Users/omry/Desktop/School Stuff/IML/iml-hack-oncology/lib/python3.9/site-packages/sklearn/metrics/_classification.py:1565: UndefinedMetricWarning: F-score is ill-defined and being set to 0.0 in labels with no true nor predicted samples. Use `zero_division` parameter to control this behavior.\n",
      "  _warn_prf(average, modifier, f\"{metric.capitalize()} is\", len(result))\n"
     ]
    },
    {
     "data": {
      "text/plain": "{'micro_f1': 0.0, 'macro_f1': 0.0}"
     },
     "execution_count": 27,
     "metadata": {},
     "output_type": "execute_result"
    }
   ],
   "source": [
    "model.evaluate(Y_dev, Y_pred)\n"
   ],
   "metadata": {
    "collapsed": false,
    "ExecuteTime": {
     "end_time": "2025-06-12T09:03:56.703523Z",
     "start_time": "2025-06-12T09:03:56.698180Z"
    }
   },
   "id": "83193a79acbdf76d"
  },
  {
   "cell_type": "code",
   "execution_count": null,
   "outputs": [],
   "source": [],
   "metadata": {
    "collapsed": false
   },
   "id": "765c80b4987f695"
  }
 ],
 "metadata": {
  "kernelspec": {
   "display_name": "Python 3",
   "language": "python",
   "name": "python3"
  },
  "language_info": {
   "codemirror_mode": {
    "name": "ipython",
    "version": 2
   },
   "file_extension": ".py",
   "mimetype": "text/x-python",
   "name": "python",
   "nbconvert_exporter": "python",
   "pygments_lexer": "ipython2",
   "version": "2.7.6"
  }
 },
 "nbformat": 4,
 "nbformat_minor": 5
}
