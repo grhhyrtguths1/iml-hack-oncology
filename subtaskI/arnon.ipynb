{
 "cells": [
  {
   "cell_type": "code",
   "execution_count": 46,
   "outputs": [],
   "source": [
    "import pandas as pd\n",
    "import numpy as np\n",
    "from sklearn.preprocessing import StandardScaler\n",
    "from sklearn.decomposition import PCA\n",
    "from sklearn.cluster import DBSCAN\n",
    "import matplotlib.pyplot as plt\n",
    "import seaborn as sns\n",
    "# Load your dataset\n",
    "df = pd.read_csv(\"../train_test_splits/train.feats.csv\", low_memory=False)\n",
    "\n",
    "# Convert all date columns\n",
    "date_cols = [col for col in df.columns if \"date\" in col.lower()]\n",
    "for col in date_cols:\n",
    "    df[col] = pd.to_datetime(df[col], errors='coerce', dayfirst=True)\n"
   ],
   "metadata": {
    "collapsed": false,
    "ExecuteTime": {
     "end_time": "2025-06-12T13:00:17.127234Z",
     "start_time": "2025-06-12T13:00:16.922881Z"
    }
   },
   "id": "4d2e4ca0a653af6c"
  },
  {
   "cell_type": "code",
   "execution_count": 47,
   "outputs": [],
   "source": [
    "# Compute last treatment date\n",
    "df['last_treatment_date'] = df[date_cols].max(axis=1)\n",
    "\n",
    "# Compute 'days since last treatment'\n",
    "for col in date_cols:\n",
    "    df[f\"{col}_since_last\"] = (df['last_treatment_date'] - df[col]).dt.days"
   ],
   "metadata": {
    "collapsed": false,
    "ExecuteTime": {
     "end_time": "2025-06-12T13:00:54.739611Z",
     "start_time": "2025-06-12T13:00:54.719150Z"
    }
   },
   "id": "5e5c8d0e8234c880"
  },
  {
   "cell_type": "code",
   "execution_count": 48,
   "outputs": [],
   "source": [
    "# Drop original dates\n",
    "df = df.drop(columns=date_cols + ['last_treatment_date'])\n",
    "\n",
    "# Select timeline features\n",
    "timeline_cols = [col for col in df.columns if col.endswith('_since_last')]\n",
    "timeline_df = df[timeline_cols].fillna(df[timeline_cols].median())\n",
    "\n",
    "# Normalize\n",
    "scaler = StandardScaler()\n",
    "timeline_scaled = scaler.fit_transform(timeline_df)"
   ],
   "metadata": {
    "collapsed": false,
    "ExecuteTime": {
     "end_time": "2025-06-12T13:01:53.336665Z",
     "start_time": "2025-06-12T13:01:53.308806Z"
    }
   },
   "id": "eb17bc4e8ac4e1db"
  },
  {
   "cell_type": "code",
   "execution_count": 50,
   "outputs": [
    {
     "data": {
      "text/plain": "       אבחנה-Diagnosis date_since_last  אבחנה-Surgery date1_since_last  \\\n0                                  650                          1126.0   \n1                                  650                          1126.0   \n2                                  650                          1126.0   \n3                                  650                          1126.0   \n4                                  650                          1126.0   \n...                                ...                             ...   \n49346                                0                            36.0   \n49347                                0                            63.0   \n49348                                0                            63.0   \n49349                                0                            63.0   \n49350                                0                            63.0   \n\n       אבחנה-Surgery date2_since_last  אבחנה-Surgery date3_since_last  \\\n0                                34.0                            76.0   \n1                                34.0                            76.0   \n2                                34.0                            76.0   \n3                                34.0                            76.0   \n4                                34.0                            76.0   \n...                               ...                             ...   \n49346                            34.0                            76.0   \n49347                            34.0                            76.0   \n49348                            34.0                            76.0   \n49349                            34.0                            76.0   \n49350                            34.0                            76.0   \n\n       surgery before or after-Activity date_since_last  \n0                                                   0.0  \n1                                                   0.0  \n2                                                   0.0  \n3                                                   0.0  \n4                                                   0.0  \n...                                                 ...  \n49346                                              36.0  \n49347                                              62.0  \n49348                                              62.0  \n49349                                              62.0  \n49350                                              62.0  \n\n[49351 rows x 5 columns]",
      "text/html": "<div>\n<style scoped>\n    .dataframe tbody tr th:only-of-type {\n        vertical-align: middle;\n    }\n\n    .dataframe tbody tr th {\n        vertical-align: top;\n    }\n\n    .dataframe thead th {\n        text-align: right;\n    }\n</style>\n<table border=\"1\" class=\"dataframe\">\n  <thead>\n    <tr style=\"text-align: right;\">\n      <th></th>\n      <th>אבחנה-Diagnosis date_since_last</th>\n      <th>אבחנה-Surgery date1_since_last</th>\n      <th>אבחנה-Surgery date2_since_last</th>\n      <th>אבחנה-Surgery date3_since_last</th>\n      <th>surgery before or after-Activity date_since_last</th>\n    </tr>\n  </thead>\n  <tbody>\n    <tr>\n      <th>0</th>\n      <td>650</td>\n      <td>1126.0</td>\n      <td>34.0</td>\n      <td>76.0</td>\n      <td>0.0</td>\n    </tr>\n    <tr>\n      <th>1</th>\n      <td>650</td>\n      <td>1126.0</td>\n      <td>34.0</td>\n      <td>76.0</td>\n      <td>0.0</td>\n    </tr>\n    <tr>\n      <th>2</th>\n      <td>650</td>\n      <td>1126.0</td>\n      <td>34.0</td>\n      <td>76.0</td>\n      <td>0.0</td>\n    </tr>\n    <tr>\n      <th>3</th>\n      <td>650</td>\n      <td>1126.0</td>\n      <td>34.0</td>\n      <td>76.0</td>\n      <td>0.0</td>\n    </tr>\n    <tr>\n      <th>4</th>\n      <td>650</td>\n      <td>1126.0</td>\n      <td>34.0</td>\n      <td>76.0</td>\n      <td>0.0</td>\n    </tr>\n    <tr>\n      <th>...</th>\n      <td>...</td>\n      <td>...</td>\n      <td>...</td>\n      <td>...</td>\n      <td>...</td>\n    </tr>\n    <tr>\n      <th>49346</th>\n      <td>0</td>\n      <td>36.0</td>\n      <td>34.0</td>\n      <td>76.0</td>\n      <td>36.0</td>\n    </tr>\n    <tr>\n      <th>49347</th>\n      <td>0</td>\n      <td>63.0</td>\n      <td>34.0</td>\n      <td>76.0</td>\n      <td>62.0</td>\n    </tr>\n    <tr>\n      <th>49348</th>\n      <td>0</td>\n      <td>63.0</td>\n      <td>34.0</td>\n      <td>76.0</td>\n      <td>62.0</td>\n    </tr>\n    <tr>\n      <th>49349</th>\n      <td>0</td>\n      <td>63.0</td>\n      <td>34.0</td>\n      <td>76.0</td>\n      <td>62.0</td>\n    </tr>\n    <tr>\n      <th>49350</th>\n      <td>0</td>\n      <td>63.0</td>\n      <td>34.0</td>\n      <td>76.0</td>\n      <td>62.0</td>\n    </tr>\n  </tbody>\n</table>\n<p>49351 rows × 5 columns</p>\n</div>"
     },
     "execution_count": 50,
     "metadata": {},
     "output_type": "execute_result"
    }
   ],
   "source": [
    "timeline_df"
   ],
   "metadata": {
    "collapsed": false,
    "ExecuteTime": {
     "end_time": "2025-06-12T13:03:28.806139Z",
     "start_time": "2025-06-12T13:03:28.801546Z"
    }
   },
   "id": "58ce9ff3da08db26"
  },
  {
   "cell_type": "code",
   "execution_count": null,
   "outputs": [],
   "source": [],
   "metadata": {
    "collapsed": false
   },
   "id": "51ae6a0fdd9c7e4a"
  }
 ],
 "metadata": {
  "kernelspec": {
   "display_name": "Python 3",
   "language": "python",
   "name": "python3"
  },
  "language_info": {
   "codemirror_mode": {
    "name": "ipython",
    "version": 2
   },
   "file_extension": ".py",
   "mimetype": "text/x-python",
   "name": "python",
   "nbconvert_exporter": "python",
   "pygments_lexer": "ipython2",
   "version": "2.7.6"
  }
 },
 "nbformat": 4,
 "nbformat_minor": 5
}
